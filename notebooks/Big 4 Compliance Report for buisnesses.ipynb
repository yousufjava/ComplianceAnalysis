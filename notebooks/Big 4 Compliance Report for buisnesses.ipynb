{
 "cells": [
  {
   "cell_type": "markdown",
   "id": "fe241f3f-22ba-433c-ba01-67ca9c80411d",
   "metadata": {},
   "source": [
    "![](Compliance.png)"
   ]
  },
  {
   "cell_type": "markdown",
   "id": "34712b79-1fba-4e38-a7a9-8cdc0439e3bf",
   "metadata": {},
   "source": [
    "### Libraries\n",
    "Import all required libraries for data analysis and visualization."
   ]
  },
  {
   "cell_type": "code",
   "execution_count": null,
   "id": "224e82e2-386e-4b10-8092-fdfa006e8834",
   "metadata": {},
   "outputs": [
    {
     "name": "stdout",
     "output_type": "stream",
     "text": [
      "Dataset URL: https://www.kaggle.com/datasets/atharvasoundankar/big-4-financial-risk-insights-2020-2025\n",
      "   Year Firm_Name  Total_Audit_Engagements  High_Risk_Cases  \\\n",
      "0  2020       PwC                     2829               51   \n",
      "1  2022  Deloitte                     3589              185   \n",
      "2  2020       PwC                     2438              212   \n",
      "3  2021       PwC                     2646              397   \n",
      "4  2020       PwC                     2680              216   \n",
      "\n",
      "   Compliance_Violations  Fraud_Cases_Detected Industry_Affected  \\\n",
      "0                    123                    39        Healthcare   \n",
      "1                     30                    60        Healthcare   \n",
      "2                    124                    97        Healthcare   \n",
      "3                     55                    97        Healthcare   \n",
      "4                     99                    46        Healthcare   \n",
      "\n",
      "   Total_Revenue_Impact AI_Used_for_Auditing  Employee_Workload  \\\n",
      "0                114.24                   No                 57   \n",
      "1                156.98                  Yes                 58   \n",
      "2                131.83                   No                 76   \n",
      "3                229.11                   No                 60   \n",
      "4                 48.00                   No                 51   \n",
      "\n",
      "   Audit_Effectiveness_Score  Client_Satisfaction_Score  \n",
      "0                        5.8                        8.4  \n",
      "1                        5.3                        6.7  \n",
      "2                        6.1                        6.2  \n",
      "3                        5.1                        8.6  \n",
      "4                        9.1                        6.7  \n",
      "   Year Firm_Name  Total_Audit_Engagements  High_Risk_Cases  \\\n",
      "0  2020       PwC                     2829               51   \n",
      "1  2022  Deloitte                     3589              185   \n",
      "2  2020       PwC                     2438              212   \n",
      "3  2021       PwC                     2646              397   \n",
      "4  2020       PwC                     2680              216   \n",
      "\n",
      "   Compliance_Violations  Fraud_Cases_Detected Industry_Affected  \\\n",
      "0                    123                    39        Healthcare   \n",
      "1                     30                    60        Healthcare   \n",
      "2                    124                    97        Healthcare   \n",
      "3                     55                    97        Healthcare   \n",
      "4                     99                    46        Healthcare   \n",
      "\n",
      "   Total_Revenue_Impact AI_Used_for_Auditing  Employee_Workload  \\\n",
      "0                114.24                   No                 57   \n",
      "1                156.98                  Yes                 58   \n",
      "2                131.83                   No                 76   \n",
      "3                229.11                   No                 60   \n",
      "4                 48.00                   No                 51   \n",
      "\n",
      "   Audit_Effectiveness_Score  Client_Satisfaction_Score  \n",
      "0                        5.8                        8.4  \n",
      "1                        5.3                        6.7  \n",
      "2                        6.1                        6.2  \n",
      "3                        5.1                        8.6  \n",
      "4                        9.1                        6.7  \n"
     ]
    }
   ],
   "source": [
    "import kaggle\n",
    "import pandas as pd\n",
    "import os\n",
    "import streamlit as st\n",
    "from PIL import Image\n",
    "import plotly.express as px\n",
    "import plotly.graph_objects as go\n",
    "\n",
    "kaggle.api.authenticate()\n",
    "dataset_name = \"atharvasoundankar/big-4-financial-risk-insights-2020-2025\"\n",
    "kaggle.api.dataset_download_files(dataset_name, path=\".\", unzip=True)\n",
    "csv_files = [f for f in os.listdir('.') if f.endswith('.csv')]\n",
    "if csv_files:\n",
    "    df = pd.read_csv(csv_files[0])\n",
    "    print(df.head())"
   ]
  },
  {
   "cell_type": "code",
   "execution_count": null,
   "id": "d7e082f8-83ac-442c-8476-0ad6686826a5",
   "metadata": {},
   "outputs": [
    {
     "name": "stdout",
     "output_type": "stream",
     "text": [
      "<class 'pandas.core.frame.DataFrame'>\n",
      "RangeIndex: 100 entries, 0 to 99\n",
      "Data columns (total 12 columns):\n",
      " #   Column                     Non-Null Count  Dtype  \n",
      "---  ------                     --------------  -----  \n",
      " 0   Year                       100 non-null    int64  \n",
      " 1   Firm_Name                  100 non-null    object \n",
      " 2   Total_Audit_Engagements    100 non-null    int64  \n",
      " 3   High_Risk_Cases            100 non-null    int64  \n",
      " 4   Compliance_Violations      100 non-null    int64  \n",
      " 5   Fraud_Cases_Detected       100 non-null    int64  \n",
      " 6   Industry_Affected          100 non-null    object \n",
      " 7   Total_Revenue_Impact       100 non-null    float64\n",
      " 8   AI_Used_for_Auditing       100 non-null    object \n",
      " 9   Employee_Workload          100 non-null    int64  \n",
      " 10  Audit_Effectiveness_Score  100 non-null    float64\n",
      " 11  Client_Satisfaction_Score  100 non-null    float64\n",
      "dtypes: float64(3), int64(6), object(3)\n",
      "memory usage: 9.5+ KB\n",
      "None\n"
     ]
    }
   ],
   "source": [
    "df.info()"
   ]
  },
  {
   "cell_type": "markdown",
   "id": "99ad9a41-55e9-448d-a539-e09c7495c457",
   "metadata": {},
   "source": [
    "# Clean and Categorize"
   ]
  },
  {
   "cell_type": "code",
   "execution_count": null,
   "id": "f12e4d83-a548-4eb5-acf0-29e9085c377c",
   "metadata": {},
   "outputs": [
    {
     "name": "stdout",
     "output_type": "stream",
     "text": [
      "Duplicated rows: 0 \n",
      "Missing values: 0 \n"
     ]
    }
   ],
   "source": [
    "df.drop_duplicates()\n",
    "duplicate_count = df.duplicated().sum()\n",
    "nan_count = df.isna().sum().sum()\n",
    "print(f'Duplicated rows: {duplicate_count}')\n",
    "print(f'Missing values: {nan_count}')"
   ]
  },
  {
   "cell_type": "markdown",
   "id": "9b2ae65f-7bbb-4657-83dd-2d83becd0d04",
   "metadata": {},
   "source": [
    "## 1. Compliance Trend Over Time"
   ]
  },
  {
   "cell_type": "code",
   "execution_count": null,
   "id": "3632321b-c832-483f-aa38-c97ec0af4a52",
   "metadata": {},
   "outputs": [
    {
     "data": {
      "text/html": [
       "<div>\n",
       "<style scoped>\n",
       "    .dataframe tbody tr th:only-of-type {\n",
       "        vertical-align: middle;\n",
       "    }\n",
       "\n",
       "    .dataframe tbody tr th {\n",
       "        vertical-align: top;\n",
       "    }\n",
       "\n",
       "    .dataframe thead th {\n",
       "        text-align: right;\n",
       "    }\n",
       "</style>\n",
       "<table border=\"1\" class=\"dataframe\">\n",
       "  <thead>\n",
       "    <tr style=\"text-align: right;\">\n",
       "      <th></th>\n",
       "      <th>Total_Audit_Engagements</th>\n",
       "      <th>High_Risk_Cases</th>\n",
       "      <th>Compliance_Violations</th>\n",
       "    </tr>\n",
       "    <tr>\n",
       "      <th>Year</th>\n",
       "      <th></th>\n",
       "      <th></th>\n",
       "      <th></th>\n",
       "    </tr>\n",
       "  </thead>\n",
       "  <tbody>\n",
       "    <tr>\n",
       "      <th>2020</th>\n",
       "      <td>55139</td>\n",
       "      <td>6063</td>\n",
       "      <td>2441</td>\n",
       "    </tr>\n",
       "    <tr>\n",
       "      <th>2021</th>\n",
       "      <td>51888</td>\n",
       "      <td>4684</td>\n",
       "      <td>1562</td>\n",
       "    </tr>\n",
       "    <tr>\n",
       "      <th>2022</th>\n",
       "      <td>43667</td>\n",
       "      <td>4195</td>\n",
       "      <td>1556</td>\n",
       "    </tr>\n",
       "    <tr>\n",
       "      <th>2023</th>\n",
       "      <td>35752</td>\n",
       "      <td>3006</td>\n",
       "      <td>1454</td>\n",
       "    </tr>\n",
       "    <tr>\n",
       "      <th>2024</th>\n",
       "      <td>43753</td>\n",
       "      <td>5513</td>\n",
       "      <td>1529</td>\n",
       "    </tr>\n",
       "    <tr>\n",
       "      <th>2025</th>\n",
       "      <td>48253</td>\n",
       "      <td>4312</td>\n",
       "      <td>2006</td>\n",
       "    </tr>\n",
       "  </tbody>\n",
       "</table>\n",
       "</div>"
      ],
      "text/plain": [
       "      Total_Audit_Engagements  High_Risk_Cases  Compliance_Violations\n",
       "Year                                                                 \n",
       "2020                    55139             6063                   2441\n",
       "2021                    51888             4684                   1562\n",
       "2022                    43667             4195                   1556\n",
       "2023                    35752             3006                   1454\n",
       "2024                    43753             5513                   1529\n",
       "2025                    48253             4312                   2006"
      ]
     },
     "execution_count": 5,
     "metadata": {},
     "output_type": "execute_result"
    }
   ],
   "source": [
    "compliance_trend = df.groupby(\"Year\")[[\"Total_Audit_Engagements\", \"High_Risk_Cases\", \"Compliance_Violations\"]].sum().reset_index()\n",
    "display(compliance_trend)"
   ]
  },
  {
   "cell_type": "code",
   "execution_count": null,
   "id": "033ab8d4",
   "metadata": {},
   "outputs": [
    {
     "data": {
      "text/html": [
       "<div>\n",
       "<style scoped>\n",
       "    .dataframe tbody tr th:only-of-type {\n",
       "        vertical-align: middle;\n",
       "    }\n",
       "\n",
       "    .dataframe tbody tr th {\n",
       "        vertical-align: top;\n",
       "    }\n",
       "\n",
       "    .dataframe thead th {\n",
       "        text-align: right;\n",
       "    }\n",
       "</style>\n",
       "<table border=\"1\" class=\"dataframe\">\n",
       "  <thead>\n",
       "    <tr style=\"text-align: right;\">\n",
       "      <th></th>\n",
       "      <th>Firm_Name</th>\n",
       "      <th>Total_Audit_Engagements</th>\n",
       "    </tr>\n",
       "  </thead>\n",
       "  <tbody>\n",
       "    <tr>\n",
       "      <th>0</th>\n",
       "      <td>Deloitte</td>\n",
       "      <td>71631</td>\n",
       "    </tr>\n",
       "    <tr>\n",
       "      <th>1</th>\n",
       "      <td>Ernst &amp; Young</td>\n",
       "      <td>59730</td>\n",
       "    </tr>\n",
       "    <tr>\n",
       "      <th>2</th>\n",
       "      <td>KPMG</td>\n",
       "      <td>67155</td>\n",
       "    </tr>\n",
       "    <tr>\n",
       "      <th>3</th>\n",
       "      <td>PwC</td>\n",
       "      <td>79936</td>\n",
       "    </tr>\n",
       "  </tbody>\n",
       "</table>\n",
       "</div>"
      ],
      "text/plain": [
       "       Firm_Name  Total_Audit_Engagements\n",
       "0       Deloitte                    71631\n",
       "1  Ernst & Young                    59730\n",
       "2           KPMG                    67155\n",
       "3            PwC                    79936"
      ]
     },
     "metadata": {},
     "output_type": "display_data"
    }
   ],
   "source": [
    "# Totals of compliance violations and the firms that found them\n",
    "firm_compliance = df.groupby(\"Firm_Name\")[[\"Total_Audit_Engagements\"]].sum().reset_index()\n",
    "display(firm_compliance)"
   ]
  },
  {
   "cell_type": "markdown",
   "id": "11535115",
   "metadata": {},
   "source": [
    "## 2. Fraud and Revenue Impact"
   ]
  },
  {
   "cell_type": "code",
   "execution_count": null,
   "id": "3e6195f2",
   "metadata": {},
   "outputs": [
    {
     "data": {
      "text/html": [
       "<div>\n",
       "<style scoped>\n",
       "    .dataframe tbody tr th:only-of-type {\n",
       "        vertical-align: middle;\n",
       "    }\n",
       "\n",
       "    .dataframe tbody tr th {\n",
       "        vertical-align: top;\n",
       "    }\n",
       "\n",
       "    .dataframe thead th {\n",
       "        text-align: right;\n",
       "    }\n",
       "</style>\n",
       "<table border=\"1\" class=\"dataframe\">\n",
       "  <thead>\n",
       "    <tr style=\"text-align: right;\">\n",
       "      <th></th>\n",
       "      <th>Firm_Name</th>\n",
       "      <th>Fraud_Cases_Detected</th>\n",
       "    </tr>\n",
       "  </thead>\n",
       "  <tbody>\n",
       "    <tr>\n",
       "      <th>0</th>\n",
       "      <td>Deloitte</td>\n",
       "      <td>1481</td>\n",
       "    </tr>\n",
       "    <tr>\n",
       "      <th>1</th>\n",
       "      <td>Ernst &amp; Young</td>\n",
       "      <td>1031</td>\n",
       "    </tr>\n",
       "    <tr>\n",
       "      <th>2</th>\n",
       "      <td>KPMG</td>\n",
       "      <td>1319</td>\n",
       "    </tr>\n",
       "    <tr>\n",
       "      <th>3</th>\n",
       "      <td>PwC</td>\n",
       "      <td>1439</td>\n",
       "    </tr>\n",
       "  </tbody>\n",
       "</table>\n",
       "</div>"
      ],
      "text/plain": [
       "       Firm_Name  Fraud_Cases_Detected\n",
       "0       Deloitte                  1481\n",
       "1  Ernst & Young                  1031\n",
       "2           KPMG                  1319\n",
       "3            PwC                  1439"
      ]
     },
     "metadata": {},
     "output_type": "display_data"
    }
   ],
   "source": [
    "firm_fraud = df.groupby(\"Firm_Name\")[[\"Fraud_Cases_Detected\"]].sum().reset_index()\n",
    "display(firm_fraud)"
   ]
  },
  {
   "cell_type": "code",
   "execution_count": null,
   "id": "5875993f",
   "metadata": {},
   "outputs": [
    {
     "data": {
      "text/html": [
       "<div>\n",
       "<style scoped>\n",
       "    .dataframe tbody tr th:only-of-type {\n",
       "        vertical-align: middle;\n",
       "    }\n",
       "\n",
       "    .dataframe tbody tr th {\n",
       "        vertical-align: top;\n",
       "    }\n",
       "\n",
       "    .dataframe thead th {\n",
       "        text-align: right;\n",
       "    }\n",
       "</style>\n",
       "<table border=\"1\" class=\"dataframe\">\n",
       "  <thead>\n",
       "    <tr style=\"text-align: right;\">\n",
       "      <th></th>\n",
       "      <th>Industry_Affected</th>\n",
       "      <th>Fraud_Cases_Detected</th>\n",
       "    </tr>\n",
       "  </thead>\n",
       "  <tbody>\n",
       "    <tr>\n",
       "      <th>0</th>\n",
       "      <td>Finance</td>\n",
       "      <td>1101</td>\n",
       "    </tr>\n",
       "    <tr>\n",
       "      <th>1</th>\n",
       "      <td>Healthcare</td>\n",
       "      <td>1410</td>\n",
       "    </tr>\n",
       "    <tr>\n",
       "      <th>2</th>\n",
       "      <td>Retail</td>\n",
       "      <td>1365</td>\n",
       "    </tr>\n",
       "    <tr>\n",
       "      <th>3</th>\n",
       "      <td>Tech</td>\n",
       "      <td>1394</td>\n",
       "    </tr>\n",
       "  </tbody>\n",
       "</table>\n",
       "</div>"
      ],
      "text/plain": [
       "  Industry_Affected  Fraud_Cases_Detected\n",
       "0           Finance                  1101\n",
       "1        Healthcare                  1410\n",
       "2            Retail                  1365\n",
       "3              Tech                  1394"
      ]
     },
     "metadata": {},
     "output_type": "display_data"
    }
   ],
   "source": [
    "sector_fraud = df.groupby(\"Industry_Affected\")[[\"Fraud_Cases_Detected\"]].sum().reset_index()\n",
    "display(sector_fraud)"
   ]
  },
  {
   "cell_type": "code",
   "execution_count": null,
   "id": "bdf209c1",
   "metadata": {},
   "outputs": [
    {
     "data": {
      "text/html": [
       "<div>\n",
       "<style scoped>\n",
       "    .dataframe tbody tr th:only-of-type {\n",
       "        vertical-align: middle;\n",
       "    }\n",
       "\n",
       "    .dataframe tbody tr th {\n",
       "        vertical-align: top;\n",
       "    }\n",
       "\n",
       "    .dataframe thead th {\n",
       "        text-align: right;\n",
       "    }\n",
       "</style>\n",
       "<table border=\"1\" class=\"dataframe\">\n",
       "  <thead>\n",
       "    <tr style=\"text-align: right;\">\n",
       "      <th></th>\n",
       "      <th>Year</th>\n",
       "      <th>Total_Revenue_Impact</th>\n",
       "    </tr>\n",
       "  </thead>\n",
       "  <tbody>\n",
       "    <tr>\n",
       "      <th>0</th>\n",
       "      <td>2020</td>\n",
       "      <td>4509.59</td>\n",
       "    </tr>\n",
       "    <tr>\n",
       "      <th>1</th>\n",
       "      <td>2021</td>\n",
       "      <td>6094.55</td>\n",
       "    </tr>\n",
       "    <tr>\n",
       "      <th>2</th>\n",
       "      <td>2022</td>\n",
       "      <td>3325.64</td>\n",
       "    </tr>\n",
       "    <tr>\n",
       "      <th>3</th>\n",
       "      <td>2023</td>\n",
       "      <td>3325.98</td>\n",
       "    </tr>\n",
       "    <tr>\n",
       "      <th>4</th>\n",
       "      <td>2024</td>\n",
       "      <td>4629.88</td>\n",
       "    </tr>\n",
       "    <tr>\n",
       "      <th>5</th>\n",
       "      <td>2025</td>\n",
       "      <td>5368.26</td>\n",
       "    </tr>\n",
       "  </tbody>\n",
       "</table>\n",
       "</div>"
      ],
      "text/plain": [
       "   Year  Total_Revenue_Impact\n",
       "0  2020               4509.59\n",
       "1  2021               6094.55\n",
       "2  2022               3325.64\n",
       "3  2023               3325.98\n",
       "4  2024               4629.88\n",
       "5  2025               5368.26"
      ]
     },
     "metadata": {},
     "output_type": "display_data"
    }
   ],
   "source": [
    "revenue_loss = df.groupby(\"Year\")[[\"Total_Revenue_Impact\"]].sum().reset_index()\n",
    "display(revenue_loss)"
   ]
  },
  {
   "cell_type": "markdown",
   "id": "89f7f126",
   "metadata": {},
   "source": [
    "### Audit Frequency and Employee Workload"
   ]
  },
  {
   "cell_type": "code",
   "execution_count": null,
   "id": "580e87c0",
   "metadata": {},
   "outputs": [
    {
     "name": "stdout",
     "output_type": "stream",
     "text": [
      "Audit Frequency Over The Years\n"
     ]
    },
    {
     "data": {
      "text/html": [
       "<div>\n",
       "<style scoped>\n",
       "    .dataframe tbody tr th:only-of-type {\n",
       "        vertical-align: middle;\n",
       "    }\n",
       "\n",
       "    .dataframe tbody tr th {\n",
       "        vertical-align: top;\n",
       "    }\n",
       "\n",
       "    .dataframe thead th {\n",
       "        text-align: right;\n",
       "    }\n",
       "</style>\n",
       "<table border=\"1\" class=\"dataframe\">\n",
       "  <thead>\n",
       "    <tr style=\"text-align: right;\">\n",
       "      <th></th>\n",
       "      <th>Year</th>\n",
       "      <th>Total_Audit_Engagements</th>\n",
       "    </tr>\n",
       "  </thead>\n",
       "  <tbody>\n",
       "    <tr>\n",
       "      <th>0</th>\n",
       "      <td>2020</td>\n",
       "      <td>55139</td>\n",
       "    </tr>\n",
       "    <tr>\n",
       "      <th>1</th>\n",
       "      <td>2021</td>\n",
       "      <td>51888</td>\n",
       "    </tr>\n",
       "    <tr>\n",
       "      <th>2</th>\n",
       "      <td>2022</td>\n",
       "      <td>43667</td>\n",
       "    </tr>\n",
       "    <tr>\n",
       "      <th>3</th>\n",
       "      <td>2023</td>\n",
       "      <td>35752</td>\n",
       "    </tr>\n",
       "    <tr>\n",
       "      <th>4</th>\n",
       "      <td>2024</td>\n",
       "      <td>43753</td>\n",
       "    </tr>\n",
       "    <tr>\n",
       "      <th>5</th>\n",
       "      <td>2025</td>\n",
       "      <td>48253</td>\n",
       "    </tr>\n",
       "  </tbody>\n",
       "</table>\n",
       "</div>"
      ],
      "text/plain": [
       "   Year  Total_Audit_Engagements\n",
       "0  2020                    55139\n",
       "1  2021                    51888\n",
       "2  2022                    43667\n",
       "3  2023                    35752\n",
       "4  2024                    43753\n",
       "5  2025                    48253"
      ]
     },
     "metadata": {},
     "output_type": "display_data"
    },
    {
     "name": "stdout",
     "output_type": "stream",
     "text": [
      "Avg. Employee Workload Over The Years\n"
     ]
    },
    {
     "data": {
      "text/html": [
       "<div>\n",
       "<style scoped>\n",
       "    .dataframe tbody tr th:only-of-type {\n",
       "        vertical-align: middle;\n",
       "    }\n",
       "\n",
       "    .dataframe tbody tr th {\n",
       "        vertical-align: top;\n",
       "    }\n",
       "\n",
       "    .dataframe thead th {\n",
       "        text-align: right;\n",
       "    }\n",
       "</style>\n",
       "<table border=\"1\" class=\"dataframe\">\n",
       "  <thead>\n",
       "    <tr style=\"text-align: right;\">\n",
       "      <th></th>\n",
       "      <th>Year</th>\n",
       "      <th>Employee_Workload</th>\n",
       "    </tr>\n",
       "  </thead>\n",
       "  <tbody>\n",
       "    <tr>\n",
       "      <th>0</th>\n",
       "      <td>2020</td>\n",
       "      <td>60.095238</td>\n",
       "    </tr>\n",
       "    <tr>\n",
       "      <th>1</th>\n",
       "      <td>2021</td>\n",
       "      <td>61.157895</td>\n",
       "    </tr>\n",
       "    <tr>\n",
       "      <th>2</th>\n",
       "      <td>2022</td>\n",
       "      <td>62.333333</td>\n",
       "    </tr>\n",
       "    <tr>\n",
       "      <th>3</th>\n",
       "      <td>2023</td>\n",
       "      <td>59.769231</td>\n",
       "    </tr>\n",
       "    <tr>\n",
       "      <th>4</th>\n",
       "      <td>2024</td>\n",
       "      <td>59.312500</td>\n",
       "    </tr>\n",
       "    <tr>\n",
       "      <th>5</th>\n",
       "      <td>2025</td>\n",
       "      <td>58.750000</td>\n",
       "    </tr>\n",
       "  </tbody>\n",
       "</table>\n",
       "</div>"
      ],
      "text/plain": [
       "   Year  Employee_Workload\n",
       "0  2020          60.095238\n",
       "1  2021          61.157895\n",
       "2  2022          62.333333\n",
       "3  2023          59.769231\n",
       "4  2024          59.312500\n",
       "5  2025          58.750000"
      ]
     },
     "metadata": {},
     "output_type": "display_data"
    }
   ],
   "source": [
    "# Audits frequency over the years\n",
    "audit_frequency = df.groupby(\"Year\")[[\"Total_Audit_Engagements\"]].sum().reset_index()\n",
    "display(audit_frequency)\n",
    "\n",
    "# Employee workload over the years\n",
    "employee_workload = df.groupby(\"Year\")[[\"Employee_Workload\"]].mean().reset_index()\n",
    "display(employee_workload)\n",
    "\n",
    "# Shows a steady increase in audits"
   ]
  },
  {
   "cell_type": "code",
   "execution_count": null,
   "id": "92541dcb",
   "metadata": {},
   "outputs": [
    {
     "data": {
      "text/html": [
       "<div>\n",
       "<style scoped>\n",
       "    .dataframe tbody tr th:only-of-type {\n",
       "        vertical-align: middle;\n",
       "    }\n",
       "\n",
       "    .dataframe tbody tr th {\n",
       "        vertical-align: top;\n",
       "    }\n",
       "\n",
       "    .dataframe thead th {\n",
       "        text-align: right;\n",
       "    }\n",
       "</style>\n",
       "<table border=\"1\" class=\"dataframe\">\n",
       "  <thead>\n",
       "    <tr style=\"text-align: right;\">\n",
       "      <th></th>\n",
       "      <th>Firm_Name</th>\n",
       "      <th>Employee_Workload</th>\n",
       "    </tr>\n",
       "  </thead>\n",
       "  <tbody>\n",
       "    <tr>\n",
       "      <th>0</th>\n",
       "      <td>Deloitte</td>\n",
       "      <td>62.433333</td>\n",
       "    </tr>\n",
       "    <tr>\n",
       "      <th>1</th>\n",
       "      <td>Ernst &amp; Young</td>\n",
       "      <td>60.913043</td>\n",
       "    </tr>\n",
       "    <tr>\n",
       "      <th>2</th>\n",
       "      <td>KPMG</td>\n",
       "      <td>59.227273</td>\n",
       "    </tr>\n",
       "    <tr>\n",
       "      <th>3</th>\n",
       "      <td>PwC</td>\n",
       "      <td>57.920000</td>\n",
       "    </tr>\n",
       "  </tbody>\n",
       "</table>\n",
       "</div>"
      ],
      "text/plain": [
       "       Firm_Name  Employee_Workload\n",
       "0       Deloitte          62.433333\n",
       "1  Ernst & Young          60.913043\n",
       "2           KPMG          59.227273\n",
       "3            PwC          57.920000"
      ]
     },
     "metadata": {},
     "output_type": "display_data"
    }
   ],
   "source": [
    "workload_firm = df.groupby('Firm_Name')[['Employee_Workload']].mean().reset_index()\n",
    "display(workload_firm)"
   ]
  },
  {
   "cell_type": "markdown",
   "id": "57658857",
   "metadata": {},
   "source": [
    "## 3. AI Audits: Success or Failures?\n",
    "Summary of AI usage in auditing and its impact on compliance, fraud, and revenue."
   ]
  },
  {
   "cell_type": "code",
   "execution_count": null,
   "id": "baeff8eb",
   "metadata": {},
   "outputs": [
    {
     "data": {
      "text/html": [
       "<div>\n",
       "<style scoped>\n",
       "    .dataframe tbody tr th:only-of-type {\n",
       "        vertical-align: middle;\n",
       "    }\n",
       "\n",
       "    .dataframe tbody tr th {\n",
       "        vertical-align: top;\n",
       "    }\n",
       "\n",
       "    .dataframe thead th {\n",
       "        text-align: right;\n",
       "    }\n",
       "</style>\n",
       "<table border=\"1\" class=\"dataframe\">\n",
       "  <thead>\n",
       "    <tr style=\"text-align: right;\">\n",
       "      <th></th>\n",
       "      <th>Year</th>\n",
       "      <th>AI_Used_Audit_Count</th>\n",
       "    </tr>\n",
       "  </thead>\n",
       "  <tbody>\n",
       "    <tr>\n",
       "      <th>0</th>\n",
       "      <td>2020</td>\n",
       "      <td>7</td>\n",
       "    </tr>\n",
       "    <tr>\n",
       "      <th>1</th>\n",
       "      <td>2021</td>\n",
       "      <td>9</td>\n",
       "    </tr>\n",
       "    <tr>\n",
       "      <th>2</th>\n",
       "      <td>2022</td>\n",
       "      <td>7</td>\n",
       "    </tr>\n",
       "    <tr>\n",
       "      <th>3</th>\n",
       "      <td>2023</td>\n",
       "      <td>6</td>\n",
       "    </tr>\n",
       "    <tr>\n",
       "      <th>4</th>\n",
       "      <td>2024</td>\n",
       "      <td>6</td>\n",
       "    </tr>\n",
       "    <tr>\n",
       "      <th>5</th>\n",
       "      <td>2025</td>\n",
       "      <td>10</td>\n",
       "    </tr>\n",
       "  </tbody>\n",
       "</table>\n",
       "</div>"
      ],
      "text/plain": [
       "   Year  AI_Used_Audit_Count\n",
       "0  2020                    7\n",
       "1  2021                    9\n",
       "2  2022                    7\n",
       "3  2023                    6\n",
       "4  2024                    6\n",
       "5  2025                   10"
      ]
     },
     "metadata": {},
     "output_type": "display_data"
    }
   ],
   "source": [
    "ai_yes = df[df['AI_Used_for_Auditing'] == 'Yes']\n",
    "ai_year_yes = ai_yes.groupby('Year').size().reset_index(name='AI_Used_Audit_Count')\n",
    "display(ai_year_yes)\n"
   ]
  },
  {
   "cell_type": "code",
   "execution_count": null,
   "id": "d0e35adb",
   "metadata": {},
   "outputs": [
    {
     "name": "stdout",
     "output_type": "stream",
     "text": [
      "\n",
      " AI USED \n",
      "        Firm_Name  Compliance_Violations\n",
      "0       Deloitte                    894\n",
      "1  Ernst & Young                   1124\n",
      "2           KPMG                    801\n",
      "3            PwC                   1607\n",
      "\n",
      " AI NOT USED \n",
      "        Firm_Name  Compliance_Violations\n",
      "0       Deloitte                   2233\n",
      "1  Ernst & Young                   1600\n",
      "2           KPMG                   1269\n",
      "3            PwC                   1020\n"
     ]
    }
   ],
   "source": [
    "# Compliance violations and AI usage by firm\n",
    "bar_yes = ai_yes.groupby('Firm_Name')['Compliance_Violations'].sum().reset_index()\n",
    "print('AI USED')\n",
    "display(bar_yes)\n",
    "\n",
    "ai_no = df[df['AI_Used_for_Auditing'] == 'No']\n",
    "bar_no = ai_no.groupby('Firm_Name')['Compliance_Violations'].sum().reset_index()\n",
    "print('AI NOT USED')\n",
    "display(bar_no)"
   ]
  },
  {
   "cell_type": "code",
   "execution_count": null,
   "id": "13dfed0c",
   "metadata": {},
   "outputs": [
    {
     "data": {
      "text/html": [
       "<div>\n",
       "<style scoped>\n",
       "    .dataframe tbody tr th:only-of-type {\n",
       "        vertical-align: middle;\n",
       "    }\n",
       "\n",
       "    .dataframe tbody tr th {\n",
       "        vertical-align: top;\n",
       "    }\n",
       "\n",
       "    .dataframe thead th {\n",
       "        text-align: right;\n",
       "    }\n",
       "</style>\n",
       "<table border=\"1\" class=\"dataframe\">\n",
       "  <thead>\n",
       "    <tr style=\"text-align: right;\">\n",
       "      <th></th>\n",
       "      <th>AI_Used_for_Auditing</th>\n",
       "      <th>Total_Revenue_Impact</th>\n",
       "    </tr>\n",
       "  </thead>\n",
       "  <tbody>\n",
       "    <tr>\n",
       "      <th>0</th>\n",
       "      <td>No</td>\n",
       "      <td>292.984182</td>\n",
       "    </tr>\n",
       "    <tr>\n",
       "      <th>1</th>\n",
       "      <td>Yes</td>\n",
       "      <td>247.550444</td>\n",
       "    </tr>\n",
       "  </tbody>\n",
       "</table>\n",
       "</div>"
      ],
      "text/plain": [
       "  AI_Used_for_Auditing  Total_Revenue_Impact\n",
       "0                   No            292.984182\n",
       "1                  Yes            247.550444"
      ]
     },
     "metadata": {},
     "output_type": "display_data"
    }
   ],
   "source": [
    "# AI usage in auditing and its impact on revenue loss\n",
    "ai_revenue_summary = df.groupby('AI_Used_for_Auditing')['Total_Revenue_Impact'].mean().reset_index()\n",
    "display(ai_revenue_summary)"
   ]
  },
  {
   "cell_type": "markdown",
   "id": "a789e3a8",
   "metadata": {},
   "source": [
    "## 4. Employee Workload by AI Usage\n",
    "This table shows the average employee workload for audits where AI was and was not used."
   ]
  },
  {
   "cell_type": "code",
   "execution_count": null,
   "id": "298e0300",
   "metadata": {},
   "outputs": [
    {
     "data": {
      "text/html": [
       "<div>\n",
       "<style scoped>\n",
       "    .dataframe tbody tr th:only-of-type {\n",
       "        vertical-align: middle;\n",
       "    }\n",
       "\n",
       "    .dataframe tbody tr th {\n",
       "        vertical-align: top;\n",
       "    }\n",
       "\n",
       "    .dataframe thead th {\n",
       "        text-align: right;\n",
       "    }\n",
       "</style>\n",
       "<table border=\"1\" class=\"dataframe\">\n",
       "  <thead>\n",
       "    <tr style=\"text-align: right;\">\n",
       "      <th></th>\n",
       "      <th>AI_Used_for_Auditing</th>\n",
       "      <th>Employee_Workload</th>\n",
       "    </tr>\n",
       "  </thead>\n",
       "  <tbody>\n",
       "    <tr>\n",
       "      <th>0</th>\n",
       "      <td>No</td>\n",
       "      <td>61.036364</td>\n",
       "    </tr>\n",
       "    <tr>\n",
       "      <th>1</th>\n",
       "      <td>Yes</td>\n",
       "      <td>59.288889</td>\n",
       "    </tr>\n",
       "  </tbody>\n",
       "</table>\n",
       "</div>"
      ],
      "text/plain": [
       "  AI_Used_for_Auditing  Employee_Workload\n",
       "0                   No          61.036364\n",
       "1                  Yes          59.288889"
      ]
     },
     "metadata": {},
     "output_type": "display_data"
    }
   ],
   "source": [
    "workload_ai = df.groupby('AI_Used_for_Auditing')[['Employee_Workload']].mean().reset_index()\n",
    "display(workload_ai)"
   ]
  },
  {
   "cell_type": "markdown",
   "id": "52ea46aa",
   "metadata": {},
   "source": [
    "## 5. Employee Workload by Firm and AI Usage (2025)\n",
    "This table shows the average employee workload for each firm, split by whether AI was used for auditing, for the year 2025 only."
   ]
  },
  {
   "cell_type": "code",
   "execution_count": 88,
   "id": "d370bc0f",
   "metadata": {},
   "outputs": [
    {
     "data": {
      "text/html": [
       "<div>\n",
       "<style scoped>\n",
       "    .dataframe tbody tr th:only-of-type {\n",
       "        vertical-align: middle;\n",
       "    }\n",
       "\n",
       "    .dataframe tbody tr th {\n",
       "        vertical-align: top;\n",
       "    }\n",
       "\n",
       "    .dataframe thead th {\n",
       "        text-align: right;\n",
       "    }\n",
       "</style>\n",
       "<table border=\"1\" class=\"dataframe\">\n",
       "  <thead>\n",
       "    <tr style=\"text-align: right;\">\n",
       "      <th></th>\n",
       "      <th>Firm_Name</th>\n",
       "      <th>AI_Used_for_Auditing</th>\n",
       "      <th>Employee_Workload</th>\n",
       "    </tr>\n",
       "  </thead>\n",
       "  <tbody>\n",
       "    <tr>\n",
       "      <th>0</th>\n",
       "      <td>Deloitte</td>\n",
       "      <td>No</td>\n",
       "      <td>69.000000</td>\n",
       "    </tr>\n",
       "    <tr>\n",
       "      <th>1</th>\n",
       "      <td>Deloitte</td>\n",
       "      <td>Yes</td>\n",
       "      <td>60.000000</td>\n",
       "    </tr>\n",
       "    <tr>\n",
       "      <th>2</th>\n",
       "      <td>Ernst &amp; Young</td>\n",
       "      <td>No</td>\n",
       "      <td>56.500000</td>\n",
       "    </tr>\n",
       "    <tr>\n",
       "      <th>3</th>\n",
       "      <td>Ernst &amp; Young</td>\n",
       "      <td>Yes</td>\n",
       "      <td>61.000000</td>\n",
       "    </tr>\n",
       "    <tr>\n",
       "      <th>4</th>\n",
       "      <td>KPMG</td>\n",
       "      <td>No</td>\n",
       "      <td>78.000000</td>\n",
       "    </tr>\n",
       "    <tr>\n",
       "      <th>5</th>\n",
       "      <td>KPMG</td>\n",
       "      <td>Yes</td>\n",
       "      <td>40.000000</td>\n",
       "    </tr>\n",
       "    <tr>\n",
       "      <th>6</th>\n",
       "      <td>PwC</td>\n",
       "      <td>No</td>\n",
       "      <td>45.000000</td>\n",
       "    </tr>\n",
       "    <tr>\n",
       "      <th>7</th>\n",
       "      <td>PwC</td>\n",
       "      <td>Yes</td>\n",
       "      <td>54.666667</td>\n",
       "    </tr>\n",
       "  </tbody>\n",
       "</table>\n",
       "</div>"
      ],
      "text/plain": [
       "       Firm_Name AI_Used_for_Auditing  Employee_Workload\n",
       "0       Deloitte                   No          69.000000\n",
       "1       Deloitte                  Yes          60.000000\n",
       "2  Ernst & Young                   No          56.500000\n",
       "3  Ernst & Young                  Yes          61.000000\n",
       "4           KPMG                   No          78.000000\n",
       "5           KPMG                  Yes          40.000000\n",
       "6            PwC                   No          45.000000\n",
       "7            PwC                  Yes          54.666667"
      ]
     },
     "metadata": {},
     "output_type": "display_data"
    }
   ],
   "source": [
    "# Average Employee Workload by Firm and AI Usage for 2025 only\n",
    "workload_firm_ai_2025 = df[df['Year'] == 2025].groupby(['Firm_Name', 'AI_Used_for_Auditing'])[['Employee_Workload']].mean().reset_index()\n",
    "display(workload_firm_ai_2025)"
   ]
  },
  {
   "cell_type": "code",
   "execution_count": 90,
   "id": "f2a4debf",
   "metadata": {},
   "outputs": [
    {
     "data": {
      "text/html": [
       "<div>\n",
       "<style scoped>\n",
       "    .dataframe tbody tr th:only-of-type {\n",
       "        vertical-align: middle;\n",
       "    }\n",
       "\n",
       "    .dataframe tbody tr th {\n",
       "        vertical-align: top;\n",
       "    }\n",
       "\n",
       "    .dataframe thead th {\n",
       "        text-align: right;\n",
       "    }\n",
       "</style>\n",
       "<table border=\"1\" class=\"dataframe\">\n",
       "  <thead>\n",
       "    <tr style=\"text-align: right;\">\n",
       "      <th></th>\n",
       "      <th>Firm_Name</th>\n",
       "      <th>AI_Used_for_Auditing</th>\n",
       "      <th>Employee_Workload</th>\n",
       "    </tr>\n",
       "  </thead>\n",
       "  <tbody>\n",
       "    <tr>\n",
       "      <th>0</th>\n",
       "      <td>Deloitte</td>\n",
       "      <td>No</td>\n",
       "      <td>64.523810</td>\n",
       "    </tr>\n",
       "    <tr>\n",
       "      <th>1</th>\n",
       "      <td>Deloitte</td>\n",
       "      <td>Yes</td>\n",
       "      <td>57.555556</td>\n",
       "    </tr>\n",
       "    <tr>\n",
       "      <th>2</th>\n",
       "      <td>Ernst &amp; Young</td>\n",
       "      <td>No</td>\n",
       "      <td>57.000000</td>\n",
       "    </tr>\n",
       "    <tr>\n",
       "      <th>3</th>\n",
       "      <td>Ernst &amp; Young</td>\n",
       "      <td>Yes</td>\n",
       "      <td>66.000000</td>\n",
       "    </tr>\n",
       "    <tr>\n",
       "      <th>4</th>\n",
       "      <td>KPMG</td>\n",
       "      <td>No</td>\n",
       "      <td>63.090909</td>\n",
       "    </tr>\n",
       "    <tr>\n",
       "      <th>5</th>\n",
       "      <td>KPMG</td>\n",
       "      <td>Yes</td>\n",
       "      <td>55.363636</td>\n",
       "    </tr>\n",
       "    <tr>\n",
       "      <th>6</th>\n",
       "      <td>PwC</td>\n",
       "      <td>No</td>\n",
       "      <td>56.700000</td>\n",
       "    </tr>\n",
       "    <tr>\n",
       "      <th>7</th>\n",
       "      <td>PwC</td>\n",
       "      <td>Yes</td>\n",
       "      <td>58.733333</td>\n",
       "    </tr>\n",
       "  </tbody>\n",
       "</table>\n",
       "</div>"
      ],
      "text/plain": [
       "       Firm_Name AI_Used_for_Auditing  Employee_Workload\n",
       "0       Deloitte                   No          64.523810\n",
       "1       Deloitte                  Yes          57.555556\n",
       "2  Ernst & Young                   No          57.000000\n",
       "3  Ernst & Young                  Yes          66.000000\n",
       "4           KPMG                   No          63.090909\n",
       "5           KPMG                  Yes          55.363636\n",
       "6            PwC                   No          56.700000\n",
       "7            PwC                  Yes          58.733333"
      ]
     },
     "metadata": {},
     "output_type": "display_data"
    }
   ],
   "source": [
    "workload_firm_ai = df.groupby(['Firm_Name', 'AI_Used_for_Auditing'])[['Employee_Workload']].mean().reset_index()\n",
    "display(workload_firm_ai)"
   ]
  }
 ],
 "metadata": {
  "kernelspec": {
   "display_name": "base",
   "language": "python",
   "name": "python3"
  },
  "language_info": {
   "codemirror_mode": {
    "name": "ipython",
    "version": 3
   },
   "file_extension": ".py",
   "mimetype": "text/x-python",
   "name": "python",
   "nbconvert_exporter": "python",
   "pygments_lexer": "ipython3",
   "version": "3.12.7"
  }
 },
 "nbformat": 4,
 "nbformat_minor": 5
}
